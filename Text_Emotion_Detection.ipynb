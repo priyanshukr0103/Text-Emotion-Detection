{
  "cells": [
    {
      "cell_type": "markdown",
      "id": "358d7d7d",
      "metadata": {
        "id": "358d7d7d"
      },
      "source": [
        "# TEXT EMOTION DETECTION"
      ]
    },
    {
      "cell_type": "code",
      "execution_count": null,
      "id": "616dbc07",
      "metadata": {
        "id": "616dbc07"
      },
      "outputs": [],
      "source": [
        "import pandas as pd\n",
        "import numpy as np\n",
        "import seaborn as sns"
      ]
    },
    {
      "cell_type": "markdown",
      "id": "09a7ea18",
      "metadata": {
        "id": "09a7ea18"
      },
      "source": [
        "### Loading the dataset"
      ]
    },
    {
      "cell_type": "code",
      "execution_count": null,
      "id": "d2fdf46d",
      "metadata": {
        "id": "d2fdf46d"
      },
      "outputs": [],
      "source": [
        "df = pd.read_csv(\"/content/emotion_dataset_raw.csv\")"
      ]
    },
    {
      "cell_type": "code",
      "execution_count": null,
      "id": "4841dd0f",
      "metadata": {
        "scrolled": true,
        "colab": {
          "base_uri": "https://localhost:8080/",
          "height": 206
        },
        "id": "4841dd0f",
        "outputId": "fab4d611-49a5-4ca1-fd9c-97747aa741cf"
      },
      "outputs": [
        {
          "output_type": "execute_result",
          "data": {
            "text/plain": [
              "   Emotion                                               Text\n",
              "0  neutral                                             Why ? \n",
              "1      joy    Sage Act upgrade on my to do list for tommorow.\n",
              "2  sadness  ON THE WAY TO MY HOMEGIRL BABY FUNERAL!!! MAN ...\n",
              "3      joy   Such an eye ! The true hazel eye-and so brill...\n",
              "4      joy  @Iluvmiasantos ugh babe.. hugggzzz for u .!  b..."
            ],
            "text/html": [
              "\n",
              "  <div id=\"df-22d08722-f27a-47e5-851a-26595c4ffc1e\" class=\"colab-df-container\">\n",
              "    <div>\n",
              "<style scoped>\n",
              "    .dataframe tbody tr th:only-of-type {\n",
              "        vertical-align: middle;\n",
              "    }\n",
              "\n",
              "    .dataframe tbody tr th {\n",
              "        vertical-align: top;\n",
              "    }\n",
              "\n",
              "    .dataframe thead th {\n",
              "        text-align: right;\n",
              "    }\n",
              "</style>\n",
              "<table border=\"1\" class=\"dataframe\">\n",
              "  <thead>\n",
              "    <tr style=\"text-align: right;\">\n",
              "      <th></th>\n",
              "      <th>Emotion</th>\n",
              "      <th>Text</th>\n",
              "    </tr>\n",
              "  </thead>\n",
              "  <tbody>\n",
              "    <tr>\n",
              "      <th>0</th>\n",
              "      <td>neutral</td>\n",
              "      <td>Why ?</td>\n",
              "    </tr>\n",
              "    <tr>\n",
              "      <th>1</th>\n",
              "      <td>joy</td>\n",
              "      <td>Sage Act upgrade on my to do list for tommorow.</td>\n",
              "    </tr>\n",
              "    <tr>\n",
              "      <th>2</th>\n",
              "      <td>sadness</td>\n",
              "      <td>ON THE WAY TO MY HOMEGIRL BABY FUNERAL!!! MAN ...</td>\n",
              "    </tr>\n",
              "    <tr>\n",
              "      <th>3</th>\n",
              "      <td>joy</td>\n",
              "      <td>Such an eye ! The true hazel eye-and so brill...</td>\n",
              "    </tr>\n",
              "    <tr>\n",
              "      <th>4</th>\n",
              "      <td>joy</td>\n",
              "      <td>@Iluvmiasantos ugh babe.. hugggzzz for u .!  b...</td>\n",
              "    </tr>\n",
              "  </tbody>\n",
              "</table>\n",
              "</div>\n",
              "    <div class=\"colab-df-buttons\">\n",
              "\n",
              "  <div class=\"colab-df-container\">\n",
              "    <button class=\"colab-df-convert\" onclick=\"convertToInteractive('df-22d08722-f27a-47e5-851a-26595c4ffc1e')\"\n",
              "            title=\"Convert this dataframe to an interactive table.\"\n",
              "            style=\"display:none;\">\n",
              "\n",
              "  <svg xmlns=\"http://www.w3.org/2000/svg\" height=\"24px\" viewBox=\"0 -960 960 960\">\n",
              "    <path d=\"M120-120v-720h720v720H120Zm60-500h600v-160H180v160Zm220 220h160v-160H400v160Zm0 220h160v-160H400v160ZM180-400h160v-160H180v160Zm440 0h160v-160H620v160ZM180-180h160v-160H180v160Zm440 0h160v-160H620v160Z\"/>\n",
              "  </svg>\n",
              "    </button>\n",
              "\n",
              "  <style>\n",
              "    .colab-df-container {\n",
              "      display:flex;\n",
              "      gap: 12px;\n",
              "    }\n",
              "\n",
              "    .colab-df-convert {\n",
              "      background-color: #E8F0FE;\n",
              "      border: none;\n",
              "      border-radius: 50%;\n",
              "      cursor: pointer;\n",
              "      display: none;\n",
              "      fill: #1967D2;\n",
              "      height: 32px;\n",
              "      padding: 0 0 0 0;\n",
              "      width: 32px;\n",
              "    }\n",
              "\n",
              "    .colab-df-convert:hover {\n",
              "      background-color: #E2EBFA;\n",
              "      box-shadow: 0px 1px 2px rgba(60, 64, 67, 0.3), 0px 1px 3px 1px rgba(60, 64, 67, 0.15);\n",
              "      fill: #174EA6;\n",
              "    }\n",
              "\n",
              "    .colab-df-buttons div {\n",
              "      margin-bottom: 4px;\n",
              "    }\n",
              "\n",
              "    [theme=dark] .colab-df-convert {\n",
              "      background-color: #3B4455;\n",
              "      fill: #D2E3FC;\n",
              "    }\n",
              "\n",
              "    [theme=dark] .colab-df-convert:hover {\n",
              "      background-color: #434B5C;\n",
              "      box-shadow: 0px 1px 3px 1px rgba(0, 0, 0, 0.15);\n",
              "      filter: drop-shadow(0px 1px 2px rgba(0, 0, 0, 0.3));\n",
              "      fill: #FFFFFF;\n",
              "    }\n",
              "  </style>\n",
              "\n",
              "    <script>\n",
              "      const buttonEl =\n",
              "        document.querySelector('#df-22d08722-f27a-47e5-851a-26595c4ffc1e button.colab-df-convert');\n",
              "      buttonEl.style.display =\n",
              "        google.colab.kernel.accessAllowed ? 'block' : 'none';\n",
              "\n",
              "      async function convertToInteractive(key) {\n",
              "        const element = document.querySelector('#df-22d08722-f27a-47e5-851a-26595c4ffc1e');\n",
              "        const dataTable =\n",
              "          await google.colab.kernel.invokeFunction('convertToInteractive',\n",
              "                                                    [key], {});\n",
              "        if (!dataTable) return;\n",
              "\n",
              "        const docLinkHtml = 'Like what you see? Visit the ' +\n",
              "          '<a target=\"_blank\" href=https://colab.research.google.com/notebooks/data_table.ipynb>data table notebook</a>'\n",
              "          + ' to learn more about interactive tables.';\n",
              "        element.innerHTML = '';\n",
              "        dataTable['output_type'] = 'display_data';\n",
              "        await google.colab.output.renderOutput(dataTable, element);\n",
              "        const docLink = document.createElement('div');\n",
              "        docLink.innerHTML = docLinkHtml;\n",
              "        element.appendChild(docLink);\n",
              "      }\n",
              "    </script>\n",
              "  </div>\n",
              "\n",
              "\n",
              "    <div id=\"df-ff889ba9-e5f7-49fd-bb5f-3066e8449100\">\n",
              "      <button class=\"colab-df-quickchart\" onclick=\"quickchart('df-ff889ba9-e5f7-49fd-bb5f-3066e8449100')\"\n",
              "                title=\"Suggest charts\"\n",
              "                style=\"display:none;\">\n",
              "\n",
              "<svg xmlns=\"http://www.w3.org/2000/svg\" height=\"24px\"viewBox=\"0 0 24 24\"\n",
              "     width=\"24px\">\n",
              "    <g>\n",
              "        <path d=\"M19 3H5c-1.1 0-2 .9-2 2v14c0 1.1.9 2 2 2h14c1.1 0 2-.9 2-2V5c0-1.1-.9-2-2-2zM9 17H7v-7h2v7zm4 0h-2V7h2v10zm4 0h-2v-4h2v4z\"/>\n",
              "    </g>\n",
              "</svg>\n",
              "      </button>\n",
              "\n",
              "<style>\n",
              "  .colab-df-quickchart {\n",
              "      --bg-color: #E8F0FE;\n",
              "      --fill-color: #1967D2;\n",
              "      --hover-bg-color: #E2EBFA;\n",
              "      --hover-fill-color: #174EA6;\n",
              "      --disabled-fill-color: #AAA;\n",
              "      --disabled-bg-color: #DDD;\n",
              "  }\n",
              "\n",
              "  [theme=dark] .colab-df-quickchart {\n",
              "      --bg-color: #3B4455;\n",
              "      --fill-color: #D2E3FC;\n",
              "      --hover-bg-color: #434B5C;\n",
              "      --hover-fill-color: #FFFFFF;\n",
              "      --disabled-bg-color: #3B4455;\n",
              "      --disabled-fill-color: #666;\n",
              "  }\n",
              "\n",
              "  .colab-df-quickchart {\n",
              "    background-color: var(--bg-color);\n",
              "    border: none;\n",
              "    border-radius: 50%;\n",
              "    cursor: pointer;\n",
              "    display: none;\n",
              "    fill: var(--fill-color);\n",
              "    height: 32px;\n",
              "    padding: 0;\n",
              "    width: 32px;\n",
              "  }\n",
              "\n",
              "  .colab-df-quickchart:hover {\n",
              "    background-color: var(--hover-bg-color);\n",
              "    box-shadow: 0 1px 2px rgba(60, 64, 67, 0.3), 0 1px 3px 1px rgba(60, 64, 67, 0.15);\n",
              "    fill: var(--button-hover-fill-color);\n",
              "  }\n",
              "\n",
              "  .colab-df-quickchart-complete:disabled,\n",
              "  .colab-df-quickchart-complete:disabled:hover {\n",
              "    background-color: var(--disabled-bg-color);\n",
              "    fill: var(--disabled-fill-color);\n",
              "    box-shadow: none;\n",
              "  }\n",
              "\n",
              "  .colab-df-spinner {\n",
              "    border: 2px solid var(--fill-color);\n",
              "    border-color: transparent;\n",
              "    border-bottom-color: var(--fill-color);\n",
              "    animation:\n",
              "      spin 1s steps(1) infinite;\n",
              "  }\n",
              "\n",
              "  @keyframes spin {\n",
              "    0% {\n",
              "      border-color: transparent;\n",
              "      border-bottom-color: var(--fill-color);\n",
              "      border-left-color: var(--fill-color);\n",
              "    }\n",
              "    20% {\n",
              "      border-color: transparent;\n",
              "      border-left-color: var(--fill-color);\n",
              "      border-top-color: var(--fill-color);\n",
              "    }\n",
              "    30% {\n",
              "      border-color: transparent;\n",
              "      border-left-color: var(--fill-color);\n",
              "      border-top-color: var(--fill-color);\n",
              "      border-right-color: var(--fill-color);\n",
              "    }\n",
              "    40% {\n",
              "      border-color: transparent;\n",
              "      border-right-color: var(--fill-color);\n",
              "      border-top-color: var(--fill-color);\n",
              "    }\n",
              "    60% {\n",
              "      border-color: transparent;\n",
              "      border-right-color: var(--fill-color);\n",
              "    }\n",
              "    80% {\n",
              "      border-color: transparent;\n",
              "      border-right-color: var(--fill-color);\n",
              "      border-bottom-color: var(--fill-color);\n",
              "    }\n",
              "    90% {\n",
              "      border-color: transparent;\n",
              "      border-bottom-color: var(--fill-color);\n",
              "    }\n",
              "  }\n",
              "</style>\n",
              "\n",
              "      <script>\n",
              "        async function quickchart(key) {\n",
              "          const quickchartButtonEl =\n",
              "            document.querySelector('#' + key + ' button');\n",
              "          quickchartButtonEl.disabled = true;  // To prevent multiple clicks.\n",
              "          quickchartButtonEl.classList.add('colab-df-spinner');\n",
              "          try {\n",
              "            const charts = await google.colab.kernel.invokeFunction(\n",
              "                'suggestCharts', [key], {});\n",
              "          } catch (error) {\n",
              "            console.error('Error during call to suggestCharts:', error);\n",
              "          }\n",
              "          quickchartButtonEl.classList.remove('colab-df-spinner');\n",
              "          quickchartButtonEl.classList.add('colab-df-quickchart-complete');\n",
              "        }\n",
              "        (() => {\n",
              "          let quickchartButtonEl =\n",
              "            document.querySelector('#df-ff889ba9-e5f7-49fd-bb5f-3066e8449100 button');\n",
              "          quickchartButtonEl.style.display =\n",
              "            google.colab.kernel.accessAllowed ? 'block' : 'none';\n",
              "        })();\n",
              "      </script>\n",
              "    </div>\n",
              "\n",
              "    </div>\n",
              "  </div>\n"
            ],
            "application/vnd.google.colaboratory.intrinsic+json": {
              "type": "dataframe",
              "variable_name": "df",
              "summary": "{\n  \"name\": \"df\",\n  \"rows\": 34792,\n  \"fields\": [\n    {\n      \"column\": \"Emotion\",\n      \"properties\": {\n        \"dtype\": \"category\",\n        \"num_unique_values\": 8,\n        \"samples\": [\n          \"joy\",\n          \"anger\",\n          \"neutral\"\n        ],\n        \"semantic_type\": \"\",\n        \"description\": \"\"\n      }\n    },\n    {\n      \"column\": \"Text\",\n      \"properties\": {\n        \"dtype\": \"string\",\n        \"num_unique_values\": 31110,\n        \"samples\": [\n          \"I found a idea which'd require me to draw 24 different pictures in the next few days. :D Oh boy, that'll be fun.  \",\n          \"So , this is the worst story I \\u2019 Ve heard this month . You have my real sympathy , Tim . \",\n          \"An anguished groan escaped her , the certain knowledge hers that both she and Cara could say goodbye to that interview for ever if she breathed a word of the truth to him . \"\n        ],\n        \"semantic_type\": \"\",\n        \"description\": \"\"\n      }\n    }\n  ]\n}"
            }
          },
          "metadata": {},
          "execution_count": 3
        }
      ],
      "source": [
        "df.head()"
      ]
    },
    {
      "cell_type": "code",
      "execution_count": null,
      "id": "0b224913",
      "metadata": {
        "colab": {
          "base_uri": "https://localhost:8080/",
          "height": 366
        },
        "id": "0b224913",
        "outputId": "5b96c009-e093-4c27-f787-b5e7f15d9133"
      },
      "outputs": [
        {
          "output_type": "execute_result",
          "data": {
            "text/plain": [
              "Emotion\n",
              "joy         11045\n",
              "sadness      6722\n",
              "fear         5410\n",
              "anger        4297\n",
              "surprise     4062\n",
              "neutral      2254\n",
              "disgust       856\n",
              "shame         146\n",
              "Name: count, dtype: int64"
            ],
            "text/html": [
              "<div>\n",
              "<style scoped>\n",
              "    .dataframe tbody tr th:only-of-type {\n",
              "        vertical-align: middle;\n",
              "    }\n",
              "\n",
              "    .dataframe tbody tr th {\n",
              "        vertical-align: top;\n",
              "    }\n",
              "\n",
              "    .dataframe thead th {\n",
              "        text-align: right;\n",
              "    }\n",
              "</style>\n",
              "<table border=\"1\" class=\"dataframe\">\n",
              "  <thead>\n",
              "    <tr style=\"text-align: right;\">\n",
              "      <th></th>\n",
              "      <th>count</th>\n",
              "    </tr>\n",
              "    <tr>\n",
              "      <th>Emotion</th>\n",
              "      <th></th>\n",
              "    </tr>\n",
              "  </thead>\n",
              "  <tbody>\n",
              "    <tr>\n",
              "      <th>joy</th>\n",
              "      <td>11045</td>\n",
              "    </tr>\n",
              "    <tr>\n",
              "      <th>sadness</th>\n",
              "      <td>6722</td>\n",
              "    </tr>\n",
              "    <tr>\n",
              "      <th>fear</th>\n",
              "      <td>5410</td>\n",
              "    </tr>\n",
              "    <tr>\n",
              "      <th>anger</th>\n",
              "      <td>4297</td>\n",
              "    </tr>\n",
              "    <tr>\n",
              "      <th>surprise</th>\n",
              "      <td>4062</td>\n",
              "    </tr>\n",
              "    <tr>\n",
              "      <th>neutral</th>\n",
              "      <td>2254</td>\n",
              "    </tr>\n",
              "    <tr>\n",
              "      <th>disgust</th>\n",
              "      <td>856</td>\n",
              "    </tr>\n",
              "    <tr>\n",
              "      <th>shame</th>\n",
              "      <td>146</td>\n",
              "    </tr>\n",
              "  </tbody>\n",
              "</table>\n",
              "</div><br><label><b>dtype:</b> int64</label>"
            ]
          },
          "metadata": {},
          "execution_count": 4
        }
      ],
      "source": [
        "df['Emotion'].value_counts()"
      ]
    },
    {
      "cell_type": "code",
      "execution_count": null,
      "id": "55053732",
      "metadata": {
        "colab": {
          "base_uri": "https://localhost:8080/",
          "height": 466
        },
        "id": "55053732",
        "outputId": "b1c5eb30-f3c7-4925-d56a-4a580ef5d82a"
      },
      "outputs": [
        {
          "output_type": "execute_result",
          "data": {
            "text/plain": [
              "<Axes: xlabel='Emotion', ylabel='count'>"
            ]
          },
          "metadata": {},
          "execution_count": 5
        },
        {
          "output_type": "display_data",
          "data": {
            "text/plain": [
              "<Figure size 640x480 with 1 Axes>"
            ],
            "image/png": "[encoded data removed]"
          },
          "metadata": {}
        }
      ],
      "source": [
        "sns.countplot(x='Emotion',data=df)"
      ]
    },
    {
      "cell_type": "markdown",
      "id": "6e44cdbf",
      "metadata": {
        "id": "6e44cdbf"
      },
      "source": [
        "### Data pre-processing"
      ]
    },
    {
      "cell_type": "code",
      "source": [
        "!pip install neattext"
      ],
      "metadata": {
        "colab": {
          "base_uri": "https://localhost:8080/"
        },
        "id": "mysr1XT80iW8",
        "outputId": "55a8ff70-51cc-4333-ead5-65986eab065b"
      },
      "id": "mysr1XT80iW8",
      "execution_count": null,
      "outputs": [
        {
          "output_type": "stream",
          "name": "stdout",
          "text": [
            "Collecting neattext\n",
            "  Downloading neattext-0.1.3-py3-none-any.whl.metadata (12 kB)\n",
            "Downloading neattext-0.1.3-py3-none-any.whl (114 kB)\n",
            "\u001b[?25l   \u001b[90m━━━━━━━━━━━━━━━━━━━━━━━━━━━━━━━━━━━━━━━━\u001b[0m \u001b[32m0.0/114.7 kB\u001b[0m \u001b[31m?\u001b[0m eta \u001b[36m-:--:--\u001b[0m\r\u001b[2K   \u001b[90m━━━━━━━━━━━━━━━━━━━━━━━━━━━━━━━━━━━━━━━━\u001b[0m \u001b[32m114.7/114.7 kB\u001b[0m \u001b[31m8.7 MB/s\u001b[0m eta \u001b[36m0:00:00\u001b[0m\n",
            "\u001b[?25hInstalling collected packages: neattext\n",
            "Successfully installed neattext-0.1.3\n"
          ]
        }
      ]
    },
    {
      "cell_type": "code",
      "execution_count": null,
      "id": "c1175202",
      "metadata": {
        "id": "c1175202"
      },
      "outputs": [],
      "source": [
        "import neattext.functions as nfx\n",
        "\n",
        "# Remove the user handles\n",
        "df['Clean_Text'] = df['Text'].apply(nfx.remove_userhandles)"
      ]
    },
    {
      "cell_type": "code",
      "execution_count": null,
      "id": "89bff967",
      "metadata": {
        "colab": {
          "base_uri": "https://localhost:8080/"
        },
        "id": "89bff967",
        "outputId": "f54a016f-dd1e-4655-a247-136ed11edede"
      },
      "outputs": [
        {
          "output_type": "execute_result",
          "data": {
            "text/plain": [
              "['BTC_ADDRESS_REGEX',\n",
              " 'CURRENCY_REGEX',\n",
              " 'CURRENCY_SYMB_REGEX',\n",
              " 'Counter',\n",
              " 'DATE_REGEX',\n",
              " 'EMAIL_REGEX',\n",
              " 'EMOJI_REGEX',\n",
              " 'HASTAG_REGEX',\n",
              " 'MASTERCard_REGEX',\n",
              " 'MD5_SHA_REGEX',\n",
              " 'MOST_COMMON_PUNCT_REGEX',\n",
              " 'NUMBERS_REGEX',\n",
              " 'PHONE_REGEX',\n",
              " 'PoBOX_REGEX',\n",
              " 'SPECIAL_CHARACTERS_REGEX',\n",
              " 'STOPWORDS',\n",
              " 'STOPWORDS_de',\n",
              " 'STOPWORDS_en',\n",
              " 'STOPWORDS_es',\n",
              " 'STOPWORDS_fr',\n",
              " 'STOPWORDS_ru',\n",
              " 'STOPWORDS_yo',\n",
              " 'STREET_ADDRESS_REGEX',\n",
              " 'TextFrame',\n",
              " 'URL_PATTERN',\n",
              " 'USER_HANDLES_REGEX',\n",
              " 'VISACard_REGEX',\n",
              " '__builtins__',\n",
              " '__cached__',\n",
              " '__doc__',\n",
              " '__file__',\n",
              " '__generate_text',\n",
              " '__loader__',\n",
              " '__name__',\n",
              " '__numbers_dict',\n",
              " '__package__',\n",
              " '__spec__',\n",
              " '_lex_richness_herdan',\n",
              " '_lex_richness_maas_ttr',\n",
              " 'clean_text',\n",
              " 'defaultdict',\n",
              " 'digit2words',\n",
              " 'extract_btc_address',\n",
              " 'extract_currencies',\n",
              " 'extract_currency_symbols',\n",
              " 'extract_dates',\n",
              " 'extract_emails',\n",
              " 'extract_emojis',\n",
              " 'extract_hashtags',\n",
              " 'extract_html_tags',\n",
              " 'extract_mastercard_addr',\n",
              " 'extract_md5sha',\n",
              " 'extract_numbers',\n",
              " 'extract_pattern',\n",
              " 'extract_phone_numbers',\n",
              " 'extract_postoffice_box',\n",
              " 'extract_shortwords',\n",
              " 'extract_special_characters',\n",
              " 'extract_stopwords',\n",
              " 'extract_street_address',\n",
              " 'extract_terms_in_bracket',\n",
              " 'extract_urls',\n",
              " 'extract_userhandles',\n",
              " 'extract_visacard_addr',\n",
              " 'fix_contractions',\n",
              " 'generate_sentence',\n",
              " 'hamming_distance',\n",
              " 'inverse_df',\n",
              " 'lexical_richness',\n",
              " 'markov_chain',\n",
              " 'math',\n",
              " 'nlargest',\n",
              " 'normalize',\n",
              " 'num2words',\n",
              " 'random',\n",
              " 're',\n",
              " 'read_txt',\n",
              " 'remove_accents',\n",
              " 'remove_bad_quotes',\n",
              " 'remove_btc_address',\n",
              " 'remove_currencies',\n",
              " 'remove_currency_symbols',\n",
              " 'remove_custom_pattern',\n",
              " 'remove_custom_words',\n",
              " 'remove_dates',\n",
              " 'remove_emails',\n",
              " 'remove_emojis',\n",
              " 'remove_hashtags',\n",
              " 'remove_html_tags',\n",
              " 'remove_mastercard_addr',\n",
              " 'remove_md5sha',\n",
              " 'remove_multiple_spaces',\n",
              " 'remove_non_ascii',\n",
              " 'remove_numbers',\n",
              " 'remove_phone_numbers',\n",
              " 'remove_postoffice_box',\n",
              " 'remove_puncts',\n",
              " 'remove_punctuations',\n",
              " 'remove_shortwords',\n",
              " 'remove_special_characters',\n",
              " 'remove_stopwords',\n",
              " 'remove_street_address',\n",
              " 'remove_terms_in_bracket',\n",
              " 'remove_urls',\n",
              " 'remove_userhandles',\n",
              " 'remove_visacard_addr',\n",
              " 'replace_bad_quotes',\n",
              " 'replace_currencies',\n",
              " 'replace_currency_symbols',\n",
              " 'replace_dates',\n",
              " 'replace_emails',\n",
              " 'replace_emojis',\n",
              " 'replace_numbers',\n",
              " 'replace_phone_numbers',\n",
              " 'replace_special_characters',\n",
              " 'replace_term',\n",
              " 'replace_urls',\n",
              " 'string',\n",
              " 'term_freq',\n",
              " 'to_txt',\n",
              " 'unicodedata',\n",
              " 'word_freq',\n",
              " 'word_length_freq']"
            ]
          },
          "metadata": {},
          "execution_count": 9
        }
      ],
      "source": [
        "dir(nfx)"
      ]
    },
    {
      "cell_type": "code",
      "execution_count": null,
      "id": "18b8f2f0",
      "metadata": {
        "id": "18b8f2f0"
      },
      "outputs": [],
      "source": [
        "# Remove the stopwords\n",
        "df['Clean_Text'] = df['Clean_Text'].apply(nfx.remove_stopwords)"
      ]
    },
    {
      "cell_type": "code",
      "execution_count": null,
      "id": "ecdaf676",
      "metadata": {
        "colab": {
          "base_uri": "https://localhost:8080/",
          "height": 493
        },
        "id": "ecdaf676",
        "outputId": "948c3255-1e9b-4b9e-b0ca-309e2054e169"
      },
      "outputs": [
        {
          "output_type": "execute_result",
          "data": {
            "text/plain": [
              "        Emotion                                               Text  \\\n",
              "0       neutral                                             Why ?    \n",
              "1           joy    Sage Act upgrade on my to do list for tommorow.   \n",
              "2       sadness  ON THE WAY TO MY HOMEGIRL BABY FUNERAL!!! MAN ...   \n",
              "3           joy   Such an eye ! The true hazel eye-and so brill...   \n",
              "4           joy  @Iluvmiasantos ugh babe.. hugggzzz for u .!  b...   \n",
              "...         ...                                                ...   \n",
              "34787  surprise  @MichelGW have you gift! Hope you like it! It'...   \n",
              "34788       joy  The world didnt give it to me..so the world MO...   \n",
              "34789     anger                           A man robbed me today .    \n",
              "34790      fear  Youu call it JEALOUSY, I call it of #Losing YO...   \n",
              "34791   sadness  I think about you baby, and I dream about you ...   \n",
              "\n",
              "                                              Clean_Text  \n",
              "0                                                      ?  \n",
              "1                        Sage Act upgrade list tommorow.  \n",
              "2      WAY HOMEGIRL BABY FUNERAL!!! MAN HATE FUNERALS...  \n",
              "3      eye ! true hazel eye-and brilliant ! Regular f...  \n",
              "4      ugh babe.. hugggzzz u .! babe naamazed nga ako...  \n",
              "...                                                  ...  \n",
              "34787    gift! Hope like it! hand wear ! It'll warm! Lol  \n",
              "34788    world didnt me..so world DEFINITELY cnt away!!!  \n",
              "34789                                 man robbed today .  \n",
              "34790                      Youu JEALOUSY, #Losing YOU...  \n",
              "34791                             think baby, dream time  \n",
              "\n",
              "[34792 rows x 3 columns]"
            ],
            "text/html": [
              "\n",
              "  <div id=\"df-5ee9f0d4-492b-47a2-bbb7-fec5fdd974e0\" class=\"colab-df-container\">\n",
              "    <div>\n",
              "<style scoped>\n",
              "    .dataframe tbody tr th:only-of-type {\n",
              "        vertical-align: middle;\n",
              "    }\n",
              "\n",
              "    .dataframe tbody tr th {\n",
              "        vertical-align: top;\n",
              "    }\n",
              "\n",
              "    .dataframe thead th {\n",
              "        text-align: right;\n",
              "    }\n",
              "</style>\n",
              "<table border=\"1\" class=\"dataframe\">\n",
              "  <thead>\n",
              "    <tr style=\"text-align: right;\">\n",
              "      <th></th>\n",
              "      <th>Emotion</th>\n",
              "      <th>Text</th>\n",
              "      <th>Clean_Text</th>\n",
              "    </tr>\n",
              "  </thead>\n",
              "  <tbody>\n",
              "    <tr>\n",
              "      <th>0</th>\n",
              "      <td>neutral</td>\n",
              "      <td>Why ?</td>\n",
              "      <td>?</td>\n",
              "    </tr>\n",
              "    <tr>\n",
              "      <th>1</th>\n",
              "      <td>joy</td>\n",
              "      <td>Sage Act upgrade on my to do list for tommorow.</td>\n",
              "      <td>Sage Act upgrade list tommorow.</td>\n",
              "    </tr>\n",
              "    <tr>\n",
              "      <th>2</th>\n",
              "      <td>sadness</td>\n",
              "      <td>ON THE WAY TO MY HOMEGIRL BABY FUNERAL!!! MAN ...</td>\n",
              "      <td>WAY HOMEGIRL BABY FUNERAL!!! MAN HATE FUNERALS...</td>\n",
              "    </tr>\n",
              "    <tr>\n",
              "      <th>3</th>\n",
              "      <td>joy</td>\n",
              "      <td>Such an eye ! The true hazel eye-and so brill...</td>\n",
              "      <td>eye ! true hazel eye-and brilliant ! Regular f...</td>\n",
              "    </tr>\n",
              "    <tr>\n",
              "      <th>4</th>\n",
              "      <td>joy</td>\n",
              "      <td>@Iluvmiasantos ugh babe.. hugggzzz for u .!  b...</td>\n",
              "      <td>ugh babe.. hugggzzz u .! babe naamazed nga ako...</td>\n",
              "    </tr>\n",
              "    <tr>\n",
              "      <th>...</th>\n",
              "      <td>...</td>\n",
              "      <td>...</td>\n",
              "      <td>...</td>\n",
              "    </tr>\n",
              "    <tr>\n",
              "      <th>34787</th>\n",
              "      <td>surprise</td>\n",
              "      <td>@MichelGW have you gift! Hope you like it! It'...</td>\n",
              "      <td>gift! Hope like it! hand wear ! It'll warm! Lol</td>\n",
              "    </tr>\n",
              "    <tr>\n",
              "      <th>34788</th>\n",
              "      <td>joy</td>\n",
              "      <td>The world didnt give it to me..so the world MO...</td>\n",
              "      <td>world didnt me..so world DEFINITELY cnt away!!!</td>\n",
              "    </tr>\n",
              "    <tr>\n",
              "      <th>34789</th>\n",
              "      <td>anger</td>\n",
              "      <td>A man robbed me today .</td>\n",
              "      <td>man robbed today .</td>\n",
              "    </tr>\n",
              "    <tr>\n",
              "      <th>34790</th>\n",
              "      <td>fear</td>\n",
              "      <td>Youu call it JEALOUSY, I call it of #Losing YO...</td>\n",
              "      <td>Youu JEALOUSY, #Losing YOU...</td>\n",
              "    </tr>\n",
              "    <tr>\n",
              "      <th>34791</th>\n",
              "      <td>sadness</td>\n",
              "      <td>I think about you baby, and I dream about you ...</td>\n",
              "      <td>think baby, dream time</td>\n",
              "    </tr>\n",
              "  </tbody>\n",
              "</table>\n",
              "<p>34792 rows × 3 columns</p>\n",
              "</div>\n",
              "    <div class=\"colab-df-buttons\">\n",
              "\n",
              "  <div class=\"colab-df-container\">\n",
              "    <button class=\"colab-df-convert\" onclick=\"convertToInteractive('df-5ee9f0d4-492b-47a2-bbb7-fec5fdd974e0')\"\n",
              "            title=\"Convert this dataframe to an interactive table.\"\n",
              "            style=\"display:none;\">\n",
              "\n",
              "  <svg xmlns=\"http://www.w3.org/2000/svg\" height=\"24px\" viewBox=\"0 -960 960 960\">\n",
              "    <path d=\"M120-120v-720h720v720H120Zm60-500h600v-160H180v160Zm220 220h160v-160H400v160Zm0 220h160v-160H400v160ZM180-400h160v-160H180v160Zm440 0h160v-160H620v160ZM180-180h160v-160H180v160Zm440 0h160v-160H620v160Z\"/>\n",
              "  </svg>\n",
              "    </button>\n",
              "\n",
              "  <style>\n",
              "    .colab-df-container {\n",
              "      display:flex;\n",
              "      gap: 12px;\n",
              "    }\n",
              "\n",
              "    .colab-df-convert {\n",
              "      background-color: #E8F0FE;\n",
              "      border: none;\n",
              "      border-radius: 50%;\n",
              "      cursor: pointer;\n",
              "      display: none;\n",
              "      fill: #1967D2;\n",
              "      height: 32px;\n",
              "      padding: 0 0 0 0;\n",
              "      width: 32px;\n",
              "    }\n",
              "\n",
              "    .colab-df-convert:hover {\n",
              "      background-color: #E2EBFA;\n",
              "      box-shadow: 0px 1px 2px rgba(60, 64, 67, 0.3), 0px 1px 3px 1px rgba(60, 64, 67, 0.15);\n",
              "      fill: #174EA6;\n",
              "    }\n",
              "\n",
              "    .colab-df-buttons div {\n",
              "      margin-bottom: 4px;\n",
              "    }\n",
              "\n",
              "    [theme=dark] .colab-df-convert {\n",
              "      background-color: #3B4455;\n",
              "      fill: #D2E3FC;\n",
              "    }\n",
              "\n",
              "    [theme=dark] .colab-df-convert:hover {\n",
              "      background-color: #434B5C;\n",
              "      box-shadow: 0px 1px 3px 1px rgba(0, 0, 0, 0.15);\n",
              "      filter: drop-shadow(0px 1px 2px rgba(0, 0, 0, 0.3));\n",
              "      fill: #FFFFFF;\n",
              "    }\n",
              "  </style>\n",
              "\n",
              "    <script>\n",
              "      const buttonEl =\n",
              "        document.querySelector('#df-5ee9f0d4-492b-47a2-bbb7-fec5fdd974e0 button.colab-df-convert');\n",
              "      buttonEl.style.display =\n",
              "        google.colab.kernel.accessAllowed ? 'block' : 'none';\n",
              "\n",
              "      async function convertToInteractive(key) {\n",
              "        const element = document.querySelector('#df-5ee9f0d4-492b-47a2-bbb7-fec5fdd974e0');\n",
              "        const dataTable =\n",
              "          await google.colab.kernel.invokeFunction('convertToInteractive',\n",
              "                                                    [key], {});\n",
              "        if (!dataTable) return;\n",
              "\n",
              "        const docLinkHtml = 'Like what you see? Visit the ' +\n",
              "          '<a target=\"_blank\" href=https://colab.research.google.com/notebooks/data_table.ipynb>data table notebook</a>'\n",
              "          + ' to learn more about interactive tables.';\n",
              "        element.innerHTML = '';\n",
              "        dataTable['output_type'] = 'display_data';\n",
              "        await google.colab.output.renderOutput(dataTable, element);\n",
              "        const docLink = document.createElement('div');\n",
              "        docLink.innerHTML = docLinkHtml;\n",
              "        element.appendChild(docLink);\n",
              "      }\n",
              "    </script>\n",
              "  </div>\n",
              "\n",
              "\n",
              "    <div id=\"df-d8f0d767-6d5f-411b-b654-2872c92178bb\">\n",
              "      <button class=\"colab-df-quickchart\" onclick=\"quickchart('df-d8f0d767-6d5f-411b-b654-2872c92178bb')\"\n",
              "                title=\"Suggest charts\"\n",
              "                style=\"display:none;\">\n",
              "\n",
              "<svg xmlns=\"http://www.w3.org/2000/svg\" height=\"24px\"viewBox=\"0 0 24 24\"\n",
              "     width=\"24px\">\n",
              "    <g>\n",
              "        <path d=\"M19 3H5c-1.1 0-2 .9-2 2v14c0 1.1.9 2 2 2h14c1.1 0 2-.9 2-2V5c0-1.1-.9-2-2-2zM9 17H7v-7h2v7zm4 0h-2V7h2v10zm4 0h-2v-4h2v4z\"/>\n",
              "    </g>\n",
              "</svg>\n",
              "      </button>\n",
              "\n",
              "<style>\n",
              "  .colab-df-quickchart {\n",
              "      --bg-color: #E8F0FE;\n",
              "      --fill-color: #1967D2;\n",
              "      --hover-bg-color: #E2EBFA;\n",
              "      --hover-fill-color: #174EA6;\n",
              "      --disabled-fill-color: #AAA;\n",
              "      --disabled-bg-color: #DDD;\n",
              "  }\n",
              "\n",
              "  [theme=dark] .colab-df-quickchart {\n",
              "      --bg-color: #3B4455;\n",
              "      --fill-color: #D2E3FC;\n",
              "      --hover-bg-color: #434B5C;\n",
              "      --hover-fill-color: #FFFFFF;\n",
              "      --disabled-bg-color: #3B4455;\n",
              "      --disabled-fill-color: #666;\n",
              "  }\n",
              "\n",
              "  .colab-df-quickchart {\n",
              "    background-color: var(--bg-color);\n",
              "    border: none;\n",
              "    border-radius: 50%;\n",
              "    cursor: pointer;\n",
              "    display: none;\n",
              "    fill: var(--fill-color);\n",
              "    height: 32px;\n",
              "    padding: 0;\n",
              "    width: 32px;\n",
              "  }\n",
              "\n",
              "  .colab-df-quickchart:hover {\n",
              "    background-color: var(--hover-bg-color);\n",
              "    box-shadow: 0 1px 2px rgba(60, 64, 67, 0.3), 0 1px 3px 1px rgba(60, 64, 67, 0.15);\n",
              "    fill: var(--button-hover-fill-color);\n",
              "  }\n",
              "\n",
              "  .colab-df-quickchart-complete:disabled,\n",
              "  .colab-df-quickchart-complete:disabled:hover {\n",
              "    background-color: var(--disabled-bg-color);\n",
              "    fill: var(--disabled-fill-color);\n",
              "    box-shadow: none;\n",
              "  }\n",
              "\n",
              "  .colab-df-spinner {\n",
              "    border: 2px solid var(--fill-color);\n",
              "    border-color: transparent;\n",
              "    border-bottom-color: var(--fill-color);\n",
              "    animation:\n",
              "      spin 1s steps(1) infinite;\n",
              "  }\n",
              "\n",
              "  @keyframes spin {\n",
              "    0% {\n",
              "      border-color: transparent;\n",
              "      border-bottom-color: var(--fill-color);\n",
              "      border-left-color: var(--fill-color);\n",
              "    }\n",
              "    20% {\n",
              "      border-color: transparent;\n",
              "      border-left-color: var(--fill-color);\n",
              "      border-top-color: var(--fill-color);\n",
              "    }\n",
              "    30% {\n",
              "      border-color: transparent;\n",
              "      border-left-color: var(--fill-color);\n",
              "      border-top-color: var(--fill-color);\n",
              "      border-right-color: var(--fill-color);\n",
              "    }\n",
              "    40% {\n",
              "      border-color: transparent;\n",
              "      border-right-color: var(--fill-color);\n",
              "      border-top-color: var(--fill-color);\n",
              "    }\n",
              "    60% {\n",
              "      border-color: transparent;\n",
              "      border-right-color: var(--fill-color);\n",
              "    }\n",
              "    80% {\n",
              "      border-color: transparent;\n",
              "      border-right-color: var(--fill-color);\n",
              "      border-bottom-color: var(--fill-color);\n",
              "    }\n",
              "    90% {\n",
              "      border-color: transparent;\n",
              "      border-bottom-color: var(--fill-color);\n",
              "    }\n",
              "  }\n",
              "</style>\n",
              "\n",
              "      <script>\n",
              "        async function quickchart(key) {\n",
              "          const quickchartButtonEl =\n",
              "            document.querySelector('#' + key + ' button');\n",
              "          quickchartButtonEl.disabled = true;  // To prevent multiple clicks.\n",
              "          quickchartButtonEl.classList.add('colab-df-spinner');\n",
              "          try {\n",
              "            const charts = await google.colab.kernel.invokeFunction(\n",
              "                'suggestCharts', [key], {});\n",
              "          } catch (error) {\n",
              "            console.error('Error during call to suggestCharts:', error);\n",
              "          }\n",
              "          quickchartButtonEl.classList.remove('colab-df-spinner');\n",
              "          quickchartButtonEl.classList.add('colab-df-quickchart-complete');\n",
              "        }\n",
              "        (() => {\n",
              "          let quickchartButtonEl =\n",
              "            document.querySelector('#df-d8f0d767-6d5f-411b-b654-2872c92178bb button');\n",
              "          quickchartButtonEl.style.display =\n",
              "            google.colab.kernel.accessAllowed ? 'block' : 'none';\n",
              "        })();\n",
              "      </script>\n",
              "    </div>\n",
              "\n",
              "  <div id=\"id_146ac6b7-6bec-4b5d-95c8-2cb359f6d6ed\">\n",
              "    <style>\n",
              "      .colab-df-generate {\n",
              "        background-color: #E8F0FE;\n",
              "        border: none;\n",
              "        border-radius: 50%;\n",
              "        cursor: pointer;\n",
              "        display: none;\n",
              "        fill: #1967D2;\n",
              "        height: 32px;\n",
              "        padding: 0 0 0 0;\n",
              "        width: 32px;\n",
              "      }\n",
              "\n",
              "      .colab-df-generate:hover {\n",
              "        background-color: #E2EBFA;\n",
              "        box-shadow: 0px 1px 2px rgba(60, 64, 67, 0.3), 0px 1px 3px 1px rgba(60, 64, 67, 0.15);\n",
              "        fill: #174EA6;\n",
              "      }\n",
              "\n",
              "      [theme=dark] .colab-df-generate {\n",
              "        background-color: #3B4455;\n",
              "        fill: #D2E3FC;\n",
              "      }\n",
              "\n",
              "      [theme=dark] .colab-df-generate:hover {\n",
              "        background-color: #434B5C;\n",
              "        box-shadow: 0px 1px 3px 1px rgba(0, 0, 0, 0.15);\n",
              "        filter: drop-shadow(0px 1px 2px rgba(0, 0, 0, 0.3));\n",
              "        fill: #FFFFFF;\n",
              "      }\n",
              "    </style>\n",
              "    <button class=\"colab-df-generate\" onclick=\"generateWithVariable('df')\"\n",
              "            title=\"Generate code using this dataframe.\"\n",
              "            style=\"display:none;\">\n",
              "\n",
              "  <svg xmlns=\"http://www.w3.org/2000/svg\" height=\"24px\"viewBox=\"0 0 24 24\"\n",
              "       width=\"24px\">\n",
              "    <path d=\"M7,19H8.4L18.45,9,17,7.55,7,17.6ZM5,21V16.75L18.45,3.32a2,2,0,0,1,2.83,0l1.4,1.43a1.91,1.91,0,0,1,.58,1.4,1.91,1.91,0,0,1-.58,1.4L9.25,21ZM18.45,9,17,7.55Zm-12,3A5.31,5.31,0,0,0,4.9,8.1,5.31,5.31,0,0,0,1,6.5,5.31,5.31,0,0,0,4.9,4.9,5.31,5.31,0,0,0,6.5,1,5.31,5.31,0,0,0,8.1,4.9,5.31,5.31,0,0,0,12,6.5,5.46,5.46,0,0,0,6.5,12Z\"/>\n",
              "  </svg>\n",
              "    </button>\n",
              "    <script>\n",
              "      (() => {\n",
              "      const buttonEl =\n",
              "        document.querySelector('#id_146ac6b7-6bec-4b5d-95c8-2cb359f6d6ed button.colab-df-generate');\n",
              "      buttonEl.style.display =\n",
              "        google.colab.kernel.accessAllowed ? 'block' : 'none';\n",
              "\n",
              "      buttonEl.onclick = () => {\n",
              "        google.colab.notebook.generateWithVariable('df');\n",
              "      }\n",
              "      })();\n",
              "    </script>\n",
              "  </div>\n",
              "\n",
              "    </div>\n",
              "  </div>\n"
            ],
            "application/vnd.google.colaboratory.intrinsic+json": {
              "type": "dataframe",
              "variable_name": "df",
              "summary": "{\n  \"name\": \"df\",\n  \"rows\": 34792,\n  \"fields\": [\n    {\n      \"column\": \"Emotion\",\n      \"properties\": {\n        \"dtype\": \"category\",\n        \"num_unique_values\": 8,\n        \"samples\": [\n          \"joy\",\n          \"anger\",\n          \"neutral\"\n        ],\n        \"semantic_type\": \"\",\n        \"description\": \"\"\n      }\n    },\n    {\n      \"column\": \"Text\",\n      \"properties\": {\n        \"dtype\": \"string\",\n        \"num_unique_values\": 31110,\n        \"samples\": [\n          \"I found a idea which'd require me to draw 24 different pictures in the next few days. :D Oh boy, that'll be fun.  \",\n          \"So , this is the worst story I \\u2019 Ve heard this month . You have my real sympathy , Tim . \",\n          \"An anguished groan escaped her , the certain knowledge hers that both she and Cara could say goodbye to that interview for ever if she breathed a word of the truth to him . \"\n        ],\n        \"semantic_type\": \"\",\n        \"description\": \"\"\n      }\n    },\n    {\n      \"column\": \"Clean_Text\",\n      \"properties\": {\n        \"dtype\": \"string\",\n        \"num_unique_values\": 30747,\n        \"samples\": [\n          \"choose , choose #Joy, choose #Joy\",\n          \"single-minded uncompromising work , provoked exasperation colleagues , feeling immediately tempered admiration felt .\",\n          \"Oh yes , loved . scene judge great ?\"\n        ],\n        \"semantic_type\": \"\",\n        \"description\": \"\"\n      }\n    }\n  ]\n}"
            }
          },
          "metadata": {},
          "execution_count": 11
        }
      ],
      "source": [
        "df"
      ]
    },
    {
      "cell_type": "markdown",
      "id": "5a61757d",
      "metadata": {
        "id": "5a61757d"
      },
      "source": [
        "### Splitting data into input variables and target variable"
      ]
    },
    {
      "cell_type": "markdown",
      "id": "d9b12855",
      "metadata": {
        "id": "d9b12855"
      },
      "source": [
        "x: Features are the attributes and variables extracted from the dataset. These extracted features are used as inputs to the model during training.\n",
        "\n",
        "y: Labels are the output or the target variable."
      ]
    },
    {
      "cell_type": "code",
      "execution_count": null,
      "id": "d2568bf5",
      "metadata": {
        "id": "d2568bf5"
      },
      "outputs": [],
      "source": [
        "x = df['Clean_Text']\n",
        "y = df['Emotion']"
      ]
    },
    {
      "cell_type": "markdown",
      "id": "0be53a4f",
      "metadata": {
        "id": "0be53a4f"
      },
      "source": [
        "### Splitting data into train and test set"
      ]
    },
    {
      "cell_type": "markdown",
      "id": "d153c41a",
      "metadata": {
        "id": "d153c41a"
      },
      "source": [
        "We need to split our dataset into a train set and test set. The model will learn from the train set. We will use the test set to evaluate the model performance and measure the model’s knowledge capability."
      ]
    },
    {
      "cell_type": "code",
      "execution_count": null,
      "id": "0781e536",
      "metadata": {
        "id": "0781e536"
      },
      "outputs": [],
      "source": [
        "from sklearn.model_selection import train_test_split\n",
        "\n",
        "x_train,x_test,y_train,y_test = train_test_split(x,y,test_size=0.3,random_state=42)"
      ]
    },
    {
      "cell_type": "markdown",
      "id": "94068470",
      "metadata": {
        "id": "94068470"
      },
      "source": [
        "### Training the model"
      ]
    },
    {
      "cell_type": "code",
      "execution_count": null,
      "id": "2ab70dcb",
      "metadata": {
        "id": "2ab70dcb"
      },
      "outputs": [],
      "source": [
        "from sklearn.pipeline import Pipeline\n",
        "from sklearn.feature_extraction.text import CountVectorizer\n",
        "from sklearn.svm import SVC\n",
        "from sklearn.ensemble import RandomForestClassifier\n",
        "from sklearn.linear_model import LogisticRegression"
      ]
    },
    {
      "cell_type": "code",
      "execution_count": null,
      "id": "8d3bb4f3",
      "metadata": {
        "colab": {
          "base_uri": "https://localhost:8080/"
        },
        "id": "8d3bb4f3",
        "outputId": "69664bae-5224-4f83-aee6-29a915f9f05d"
      },
      "outputs": [
        {
          "output_type": "stream",
          "name": "stderr",
          "text": [
            "/usr/local/lib/python3.11/dist-packages/sklearn/linear_model/_logistic.py:465: ConvergenceWarning: lbfgs failed to converge (status=1):\n",
            "STOP: TOTAL NO. OF ITERATIONS REACHED LIMIT.\n",
            "\n",
            "Increase the number of iterations (max_iter) or scale the data as shown in:\n",
            "    https://scikit-learn.org/stable/modules/preprocessing.html\n",
            "Please also refer to the documentation for alternative solver options:\n",
            "    https://scikit-learn.org/stable/modules/linear_model.html#logistic-regression\n",
            "  n_iter_i = _check_optimize_result(\n"
          ]
        },
        {
          "output_type": "execute_result",
          "data": {
            "text/plain": [
              "0.6201379574631155"
            ]
          },
          "metadata": {},
          "execution_count": 15
        }
      ],
      "source": [
        "pipe_lr = Pipeline(steps=[('cv',CountVectorizer()),('lr',LogisticRegression())])\n",
        "pipe_lr.fit(x_train,y_train)\n",
        "pipe_lr.score(x_test,y_test)"
      ]
    },
    {
      "cell_type": "code",
      "execution_count": null,
      "id": "89b6b506",
      "metadata": {
        "colab": {
          "base_uri": "https://localhost:8080/"
        },
        "id": "89b6b506",
        "outputId": "037bb758-a8d1-4336-a093-91a685f08731"
      },
      "outputs": [
        {
          "output_type": "execute_result",
          "data": {
            "text/plain": [
              "0.62195822954589"
            ]
          },
          "metadata": {},
          "execution_count": 17
        }
      ],
      "source": [
        "pipe_svm = Pipeline(steps=[('cv',CountVectorizer()),('svc', SVC(kernel = 'rbf', C = 10))])\n",
        "pipe_svm.fit(x_train,y_train)\n",
        "pipe_svm.score(x_test,y_test)"
      ]
    },
    {
      "cell_type": "code",
      "execution_count": null,
      "id": "46e9ce98",
      "metadata": {
        "colab": {
          "base_uri": "https://localhost:8080/"
        },
        "id": "46e9ce98",
        "outputId": "a4eb1119-77ff-4376-d1bd-b2ead76dc6f2"
      },
      "outputs": [
        {
          "output_type": "execute_result",
          "data": {
            "text/plain": [
              "0.5640927380724277"
            ]
          },
          "metadata": {},
          "execution_count": 18
        }
      ],
      "source": [
        "pipe_rf = Pipeline(steps=[('cv',CountVectorizer()),('rf', RandomForestClassifier(n_estimators=10))])\n",
        "pipe_rf.fit(x_train,y_train)\n",
        "pipe_rf.score(x_test,y_test)"
      ]
    },
    {
      "cell_type": "code",
      "source": [
        "# --- Evaluate on the held‑out test set ---\n",
        "from sklearn.metrics import (\n",
        "    accuracy_score,\n",
        "    f1_score,\n",
        "    classification_report,\n",
        "    confusion_matrix,\n",
        ")\n",
        "import matplotlib.pyplot as plt\n",
        "import seaborn as sns\n",
        "\n",
        "# Choose one of the pipelines: pipe_lr, pipe_svm, or pipe_rf\n",
        "pipe = pipe_lr  # For example, using pipe_lr here\n",
        "\n",
        "# 1️⃣  Make predictions\n",
        "y_pred = pipe.predict(x_test) # Changed X_test to x_test\n",
        "\n",
        "# 2️⃣  Core metrics\n",
        "acc       = accuracy_score(y_test, y_pred)\n",
        "macro_f1  = f1_score(y_test, y_pred, average=\"macro\")\n",
        "\n",
        "print(f\"Accuracy     : {acc:.4f}\")\n",
        "print(f\"Macro F1‑score: {macro_f1:.4f}\\n\")\n",
        "\n",
        "# 3️⃣  Detailed per‑class report\n",
        "print(\"Classification report:\")\n",
        "print(classification_report(y_test, y_pred, digits=4))\n",
        "\n",
        "# 4️⃣  Confusion‑matrix heatmap (quick visual check)\n",
        "cm = confusion_matrix(y_test, y_pred, labels=pipe.classes_)\n",
        "\n",
        "plt.figure(figsize=(6, 5))\n",
        "sns.heatmap(\n",
        "    cm,\n",
        "    annot=True,\n",
        "    fmt=\"d\",\n",
        "    cmap=\"Blues\",\n",
        "    xticklabels=pipe.classes_,\n",
        "    yticklabels=pipe.classes_,\n",
        ")\n",
        "plt.title(\"Confusion Matrix\")\n",
        "plt.xlabel(\"Predicted\")\n",
        "plt.ylabel(\"True\")\n",
        "plt.tight_layout()\n",
        "plt.show()"
      ],
      "metadata": {
        "colab": {
          "base_uri": "https://localhost:8080/",
          "height": 837
        },
        "id": "_htazucW3w6h",
        "outputId": "7685f8f9-91b6-49d5-bf84-c9ce145832df"
      },
      "id": "_htazucW3w6h",
      "execution_count": null,
      "outputs": [
        {
          "output_type": "stream",
          "name": "stdout",
          "text": [
            "Accuracy     : 0.6201\n",
            "Macro F1‑score: 0.5925\n",
            "\n",
            "Classification report:\n",
            "              precision    recall  f1-score   support\n",
            "\n",
            "       anger     0.6258    0.5526    0.5869      1283\n",
            "     disgust     0.6190    0.1781    0.2766       292\n",
            "        fear     0.7405    0.6505    0.6926      1645\n",
            "         joy     0.6163    0.7451    0.6746      3311\n",
            "     neutral     0.5892    0.7289    0.6517       675\n",
            "     sadness     0.5779    0.5687    0.5733      2015\n",
            "       shame     0.8235    0.7778    0.8000        36\n",
            "    surprise     0.5527    0.4310    0.4843      1181\n",
            "\n",
            "    accuracy                         0.6201     10438\n",
            "   macro avg     0.6431    0.5791    0.5925     10438\n",
            "weighted avg     0.6215    0.6201    0.6134     10438\n",
            "\n"
          ]
        },
        {
          "output_type": "display_data",
          "data": {
            "text/plain": [
              "<Figure size 600x500 with 2 Axes>"
            ],
            "image/png": "[encoded data removed]"
          },
          "metadata": {}
        }
      ]
    },
    {
      "cell_type": "markdown",
      "id": "30ac497a",
      "metadata": {
        "id": "30ac497a"
      },
      "source": [
        "### Saving the model"
      ]
    },
    {
      "cell_type": "code",
      "execution_count": null,
      "id": "ed05d1fc",
      "metadata": {
        "id": "ed05d1fc"
      },
      "outputs": [],
      "source": [
        "import joblib\n",
        "pipeline_file = open(\"text_emotion.pkl\",\"wb\")\n",
        "joblib.dump(pipe_lr,pipeline_file)\n",
        "pipeline_file.close()"
      ]
    },
    {
      "cell_type": "code",
      "execution_count": null,
      "id": "5b4a21ff",
      "metadata": {
        "id": "5b4a21ff"
      },
      "outputs": [],
      "source": []
    }
  ],
  "metadata": {
    "kernelspec": {
      "display_name": "Python 3 (ipykernel)",
      "language": "python",
      "name": "python3"
    },
    "language_info": {
      "codemirror_mode": {
        "name": "ipython",
        "version": 3
      },
      "file_extension": ".py",
      "mimetype": "text/x-python",
      "name": "python",
      "nbconvert_exporter": "python",
      "pygments_lexer": "ipython3",
      "version": "3.9.12"
    },
    "colab": {
      "provenance": []
    }
  },
  "nbformat": 4,
  "nbformat_minor": 5
}